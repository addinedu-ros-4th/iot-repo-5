{
 "cells": [
  {
   "cell_type": "code",
   "execution_count": null,
   "metadata": {},
   "outputs": [],
   "source": [
    "import pandas as pd\n",
    "import mysql.connector\n",
    "\n",
    "df = pd.read_csv(\"/home/kkyu/amr_ws/DL/IoT_Project/environment.csv\")\n",
    "\n",
    "data = mysql.connector.connect(\n",
    "    host = \"127.0.0.1\",\n",
    "    port = 3306,\n",
    "    user = \"remote\",\n",
    "    password = \"7500\",\n",
    "    database = \"AdDYdb\"   \n",
    ")\n",
    "\n",
    "\n",
    "sql = \"INSERT INTO env_sensor VALUES(%s, %s, %s, %s, %s, %s, %s)\"\n",
    "cursor = data.cursor(buffered=True)\n",
    "\n",
    "for i, row in df.iterrows():\n",
    "    cursor.execute(sql, tuple(row))\n",
    "    data.commit()\n",
    "    \n",
    "cursor.execute(\"SELECT * from env_sensor\")\n",
    "\n",
    "result = cursor.fetchall()\n",
    "for row in result:\n",
    "    print(row)\n",
    "    \n",
    "    \n",
    "data.close()\n",
    "    "
   ]
  },
  {
   "cell_type": "code",
   "execution_count": 17,
   "metadata": {},
   "outputs": [
    {
     "name": "stdout",
     "output_type": "stream",
     "text": [
      "(1, datetime.date(2024, 3, 8), 24, 19)\n",
      "(2, datetime.date(2024, 3, 8), 24, 19)\n",
      "(3, datetime.date(2024, 3, 8), 24, 19)\n",
      "(4, datetime.date(2024, 3, 8), 24, 19)\n",
      "(5, datetime.date(2024, 3, 8), 24, 19)\n",
      "(6, datetime.date(2024, 3, 8), 24, 19)\n",
      "(7, datetime.date(2024, 3, 8), 24, 19)\n",
      "(8, datetime.date(2024, 3, 8), 24, 19)\n",
      "(9, datetime.date(2024, 3, 8), 24, 19)\n",
      "(10, datetime.date(2024, 3, 8), 24, 19)\n",
      "(11, datetime.date(2024, 3, 8), 24, 19)\n",
      "(12, datetime.date(2024, 3, 8), 24, 19)\n",
      "(13, datetime.date(2024, 3, 8), 24, 19)\n",
      "(14, datetime.date(2024, 3, 8), 24, 19)\n",
      "(15, datetime.date(2024, 3, 8), 24, 19)\n",
      "(16, datetime.date(2024, 3, 8), 24, 19)\n",
      "(17, datetime.date(2024, 3, 8), 24, 19)\n",
      "(18, datetime.date(2024, 3, 8), 24, 19)\n",
      "(19, datetime.date(2024, 3, 8), 24, 19)\n",
      "(20, datetime.date(2024, 3, 8), 24, 19)\n",
      "(21, datetime.date(2024, 3, 8), 24, 19)\n",
      "(22, datetime.date(2024, 3, 8), 24, 19)\n",
      "(23, datetime.date(2024, 3, 8), 24, 19)\n"
     ]
    }
   ],
   "source": [
    "import pandas as pd\n",
    "import mysql.connector\n",
    "\n",
    "# CSV 파일 읽기\n",
    "df = pd.read_csv(\"/home/kkyu/amr_ws/DL/IoT_Project/environment.csv\")\n",
    "\n",
    "# 데이터베이스 연결 설정\n",
    "data = mysql.connector.connect(\n",
    "    host=\"127.0.0.1\",\n",
    "    port=3306,\n",
    "    user=\"remote\",\n",
    "    password=\"1234\",\n",
    "    database=\"AdDYdb\"\n",
    ")\n",
    "\n",
    "# INSERT 쿼리\n",
    "sql = \"INSERT INTO test (DATE, TEMP, HUMIDITY) VALUES (%s, %s, %s)\"\n",
    "cursor = data.cursor()\n",
    "\n",
    "# DataFrame의 각 행을 반복하면서 데이터베이스에 삽입\n",
    "for i, row in df.iterrows():\n",
    "    cursor.execute(sql, (row['Date'], row['Temp(°C)'], row['Humidity (%)']))\n",
    "    data.commit()\n",
    "\n",
    "# 삽입된 데이터 확인\n",
    "cursor.execute(\"SELECT * FROM test\")\n",
    "result = cursor.fetchall()\n",
    "for row in result:\n",
    "    print(row)\n",
    "\n",
    "# 연결 종료\n",
    "data.close()\n"
   ]
  }
 ],
 "metadata": {
  "kernelspec": {
   "display_name": "deep_test",
   "language": "python",
   "name": "python3"
  },
  "language_info": {
   "codemirror_mode": {
    "name": "ipython",
    "version": 3
   },
   "file_extension": ".py",
   "mimetype": "text/x-python",
   "name": "python",
   "nbconvert_exporter": "python",
   "pygments_lexer": "ipython3",
   "version": "3.10.12"
  }
 },
 "nbformat": 4,
 "nbformat_minor": 2
}
